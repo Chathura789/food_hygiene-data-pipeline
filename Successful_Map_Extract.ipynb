{
  "nbformat": 4,
  "nbformat_minor": 0,
  "metadata": {
    "colab": {
      "provenance": [],
      "include_colab_link": true
    },
    "kernelspec": {
      "name": "python3",
      "display_name": "Python 3"
    },
    "language_info": {
      "name": "python"
    }
  },
  "cells": [
    {
      "cell_type": "markdown",
      "metadata": {
        "id": "view-in-github",
        "colab_type": "text"
      },
      "source": [
        "<a href=\"https://colab.research.google.com/github/Chathura789/food_hygiene-data-pipeline/blob/main/Successful_Map_Extract.ipynb\" target=\"_parent\"><img src=\"https://colab.research.google.com/assets/colab-badge.svg\" alt=\"Open In Colab\"/></a>"
      ]
    },
    {
      "cell_type": "code",
      "source": [
        "# Install Selenium\n",
        "!pip install selenium"
      ],
      "metadata": {
        "id": "H29vapehHl5m"
      },
      "execution_count": null,
      "outputs": []
    },
    {
      "cell_type": "code",
      "source": [
        "# Update Ubuntu's package list, install Chromium, and make sure the ChromeDriver is in the path\n",
        "!apt-get update\n",
        "!apt install chromium-chromedriver\n",
        "!cp /usr/lib/chromium-browser/chromedriver /usr/bin\n",
        "import sys\n",
        "sys.path.insert(0, '/usr/lib/chromium-browser/chromedriver')\n"
      ],
      "metadata": {
        "id": "eC71VRYwZEnK"
      },
      "execution_count": null,
      "outputs": []
    },
    {
      "cell_type": "code",
      "source": [
        "clubs =[\"https://www.strava.com/clubs/BCRTSanford/recent_activity?num_entries=20\"]"
      ],
      "metadata": {
        "id": "ZN2hTy11cMV6"
      },
      "execution_count": null,
      "outputs": []
    },
    {
      "cell_type": "markdown",
      "source": [
        "Time stamp Extraction new"
      ],
      "metadata": {
        "id": "s3rNz1tKtO6g"
      }
    },
    {
      "cell_type": "code",
      "source": [
        "import pandas as pd\n",
        "from selenium import webdriver\n",
        "from selenium.webdriver.common.by import By\n",
        "from selenium.webdriver.support.ui import WebDriverWait\n",
        "from selenium.webdriver.support import expected_conditions as EC\n",
        "from selenium.common.exceptions import NoSuchElementException, TimeoutException, ElementClickInterceptedException\n",
        "import time\n",
        "import re\n",
        "\n",
        "def selenium_webdriver():\n",
        "    chrome_options = webdriver.ChromeOptions()\n",
        "    chrome_options.add_argument('--headless')\n",
        "    chrome_options.add_argument('--no-sandbox')\n",
        "    chrome_options.add_argument('--disable-dev-shm-usage')\n",
        "    chrome_options.add_argument('--window-size=1920x1080')\n",
        "    chrome_options.add_argument('--disable-gpu')\n",
        "    chrome_options.add_experimental_option('prefs', {\n",
        "        \"intl.accept_languages\": \"en_us\",\n",
        "        \"enable_do_not_track\": True,\n",
        "    })\n",
        "    driver = webdriver.Chrome(options=chrome_options)\n",
        "    return driver\n",
        "\n",
        "def strava_authentication(strava_login, strava_password):\n",
        "    driver = selenium_webdriver()\n",
        "    driver.get('https://www.strava.com/login')\n",
        "    time.sleep(2)\n",
        "\n",
        "    try:\n",
        "        # Dismiss the cookie banner if it exists\n",
        "        cookie_banner = WebDriverWait(driver, 10).until(\n",
        "            EC.element_to_be_clickable((By.ID, 'stravaCookieBanner'))\n",
        "        )\n",
        "        cookie_banner_button = cookie_banner.find_element(By.XPATH, './/button[contains(text(),\"Accept\")]')\n",
        "        cookie_banner_button.click()\n",
        "        time.sleep(2)  # Wait for the banner to be dismissed\n",
        "    except (NoSuchElementException, TimeoutException):\n",
        "        pass  # If the banner doesn't appear, move on\n",
        "\n",
        "    try:\n",
        "        driver.find_element(By.ID, 'email').send_keys(strava_login)\n",
        "        driver.find_element(By.ID, 'password').send_keys(strava_password)\n",
        "\n",
        "        # Attempt to click the login button\n",
        "        try:\n",
        "            login_button = driver.find_element(By.ID, 'login-button')\n",
        "            login_button.click()\n",
        "        except ElementClickInterceptedException:\n",
        "            # Handle the case where the button is not clickable due to overlaying elements\n",
        "            driver.execute_script(\"arguments[0].click();\", login_button)\n",
        "\n",
        "        time.sleep(5)  # Wait for the login process to complete\n",
        "\n",
        "    except NoSuchElementException as e:\n",
        "        print(f\"Login elements not found: {e}\")\n",
        "\n",
        "    return driver\n",
        "\n",
        "def extract_activity_data(driver, urls):\n",
        "    activities_data = []\n",
        "\n",
        "    for url in urls:\n",
        "        driver.get(url)\n",
        "        time.sleep(5)  # Increased time for dynamic content to load\n",
        "\n",
        "        try:\n",
        "            activities = WebDriverWait(driver, 10).until(\n",
        "                EC.presence_of_all_elements_located((By.XPATH, '//div[@data-testid=\"web-feed-entry\"]'))\n",
        "            )\n",
        "\n",
        "            for activity in activities:\n",
        "                try:\n",
        "                    athlete_name = activity.find_element(By.XPATH, './/a[contains(@data-testid, \"owner-avatar\")]').get_attribute('title')\n",
        "                    activity_name_element = activity.find_element(By.XPATH, './/div[@data-testid=\"activity_entry_container\"]//a')\n",
        "                    activity_name = activity_name_element.text if activity_name_element else \"N/A\"\n",
        "                    distance = activity.find_element(By.XPATH, './/ul/li[1]/div/div').text\n",
        "                    pace = activity.find_element(By.XPATH, './/ul/li[2]/div/div').text\n",
        "                    time_spent = activity.find_element(By.XPATH, './/ul/li[3]/div/div').text\n",
        "                    map_img = activity.find_element(By.XPATH, './/img[contains(@data-testid, \"map\")]')\n",
        "                    map_link = map_img.get_attribute('src') if map_img else \"N/A\"\n",
        "\n",
        "                    # Extract the feed id from the activity element's id attribute\n",
        "                    activity_ids = activity.find_elements(By.XPATH, './/div[@data-testid=\"activity_entry_container\"]//h3//a')\n",
        "\n",
        "                    for activity_id in activity_ids:\n",
        "                        activity_id = activity_id.get_attribute('href')\n",
        "                        activity_id = re.sub(pattern=r'^.*/activities/(.*)$', repl=r'\\1', string=activity_id, flags=0,)\n",
        "                        activity_id = re.sub(pattern=r'^([0-9]+)(\\?|/|#).*$', repl=r'\\1', string=activity_id, flags=0,)\n",
        "                        break  # Exit after the first match\n",
        "\n",
        "                    # Extract the date and time of the activity\n",
        "                    try:\n",
        "                        date_time = activity.find_element(By.XPATH, '/html/body/div/div[3]/section/div/div/div[1]/div/div/time').get_attribute('datetime')\n",
        "                    except NoSuchElementException:\n",
        "                        date_time = \"N/A\"\n",
        "\n",
        "                    activities_data.append({\n",
        "                        'Athlete Name': athlete_name,\n",
        "                        'Activity Name': activity_name,\n",
        "                        'Distance': distance,\n",
        "                        'Pace': pace,\n",
        "                        'Time': time_spent,\n",
        "                        'Map Link': map_link,\n",
        "                        'Source URL': url,  # Including the source URL in the data\n",
        "                        'Feed ID': activity_id,  # Including the Feed ID in the data\n",
        "                        'Date Time': date_time  # Including the Date and Time in the data\n",
        "                    })\n",
        "\n",
        "                except NoSuchElementException as e:\n",
        "                    print(f\"Some elements could not be found for an activity: {e}\")\n",
        "                    continue\n",
        "\n",
        "        except TimeoutException as e:\n",
        "            print(f\"Timeout occurred while waiting for activities to load on {url}: {e}\")\n",
        "            continue\n",
        "\n",
        "    df_activities = pd.DataFrame(activities_data)\n",
        "    return df_activities\n",
        "\n",
        "# Credentials (Use environment variables or a safer method in production)\n",
        "strava_email = 'jsekara@gmail.com'\n",
        "strava_password = 'aCU3X7QSQ!tjVNp'\n",
        "\n",
        "driver = strava_authentication(strava_email, strava_password)\n",
        "\n",
        "# List of URLs to extract data from\n",
        "urls = clubs\n",
        "\n",
        "# Extract activity data into a DataFrame\n",
        "df_activities = extract_activity_data(driver, urls)\n",
        "print(df_activities)\n",
        "\n",
        "# Cleanup: close the browser window\n",
        "driver.quit()\n"
      ],
      "metadata": {
        "colab": {
          "base_uri": "https://localhost:8080/"
        },
        "id": "J33btl2tsKkr",
        "outputId": "f70aeb43-687d-4845-ddf1-a65164059637"
      },
      "execution_count": null,
      "outputs": [
        {
          "output_type": "stream",
          "name": "stdout",
          "text": [
            "Timeout occurred while waiting for activities to load on https://www.strava.com/clubs/BCRTSanford/recent_activity?num_entries=20: Message: \n",
            "\n",
            "Empty DataFrame\n",
            "Columns: []\n",
            "Index: []\n"
          ]
        }
      ]
    },
    {
      "cell_type": "markdown",
      "source": [
        "![image.png](data:image/png;base64,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)"
      ],
      "metadata": {
        "id": "TbMpMGDAkRRJ"
      }
    },
    {
      "cell_type": "code",
      "source": [
        "# CHECK REASONS AND PROOGRESS\n",
        "# COPy LINK FROM SOURCE  THIS LINK WORKS https://www.strava.com/activities/11193992061/export_gpx\n",
        "\n"
      ],
      "metadata": {
        "id": "qkZsTiLQIqxO"
      },
      "execution_count": null,
      "outputs": []
    },
    {
      "cell_type": "code",
      "source": [
        "! pip install strava-tools"
      ],
      "metadata": {
        "id": "jC08kSdhNoVY"
      },
      "execution_count": null,
      "outputs": []
    },
    {
      "cell_type": "code",
      "source": [
        "!strava-shell"
      ],
      "metadata": {
        "id": "k8eZxHMSNq3_"
      },
      "execution_count": null,
      "outputs": []
    },
    {
      "cell_type": "code",
      "source": [
        "#!/usr/bin/env python\n",
        "# -*- coding: utf-8 -*-\n",
        "\n",
        "from bs4 import BeautifulSoup\n",
        "import requests\n",
        "\n",
        "\n",
        "VERSION = '0.1.0'\n",
        "\n",
        "\n",
        "class StravaScraper(object):\n",
        "    # https://developer.mozilla.org/en-US/docs/Web/HTTP/Headers/User-Agent\n",
        "    USER_AGENT = \"stravalib-scraper/%s\" % VERSION\n",
        "\n",
        "    HEADERS = {'User-Agent': USER_AGENT}\n",
        "\n",
        "    BASE_URL = \"https://www.strava.com\"\n",
        "\n",
        "    URL_LOGIN = \"%s/login\" % BASE_URL\n",
        "    URL_SESSION = \"%s/session\" % BASE_URL\n",
        "    URL_DASHBOARD = \"%s/dashboard\" % BASE_URL\n",
        "\n",
        "    is_authed = False\n",
        "\n",
        "    # The content from the /dashboard request post-login (if you'd like to\n",
        "    # reference it at some point)\n",
        "    dashboard_content = None\n",
        "\n",
        "    def __init__(self, email, password):\n",
        "        self.email = email\n",
        "        self.password = password\n",
        "        self.session = requests.Session()\n",
        "\n",
        "    def get_page(self, url):\n",
        "        response = self.session.get(url, headers=StravaScraper.HEADERS)\n",
        "        response.raise_for_status()\n",
        "        return response\n",
        "\n",
        "    def login(self):\n",
        "        response = self.get_page(StravaScraper.URL_LOGIN)\n",
        "        soup = BeautifulSoup(response.content, 'html.parser')\n",
        "        utf8 = soup.find_all('input',\n",
        "                             {'name': 'utf8'})[0].get('value').encode('utf-8')\n",
        "        token = soup.find_all('input',\n",
        "                              {'name': 'authenticity_token'})[0].get('value')\n",
        "        data = {\n",
        "            'utf8': utf8,\n",
        "            'authenticity_token': token,\n",
        "            'plan': \"\",\n",
        "            'email': self.email,\n",
        "            'password': self.password,\n",
        "        }\n",
        "        response = self.session.post(StravaScraper.URL_SESSION,\n",
        "                                     data=data,\n",
        "                                     headers=StravaScraper.HEADERS)\n",
        "        response.raise_for_status()\n",
        "        # Simulate that redirect here:\n",
        "        response = self.get_page(StravaScraper.URL_DASHBOARD)\n",
        "        assert(\"<h2>Activity Feed</h2>\" in response.content)\n",
        "        self.is_authed = True\n",
        "        # Save this in case someone wants it later...\n",
        "        self.dashboard_content = response.content\n",
        "\n",
        "\n",
        "# def main():\n",
        "#     import sys\n",
        "\n",
        "#     if len(sys.argv) < 3:\n",
        "#         print >> sys.stderr, \"Usage: ./scraper.py \\\"<email>\\\" \\\"<password>\\\" [url=\\\"https://www.strava.com/dashboard\\\"]\"\n",
        "#         sys.exit(1)\n",
        "#     email, password = sys.argv[1:3]\n",
        "#     scraper = StravaScraper(email, password)\n",
        "#     scraper.login()\n",
        "#     if len(sys.argv) < 4:\n",
        "#         # No custom URL to hit, just print the dashboard HTML\n",
        "#         print scraper.dashboard_content\n",
        "#         return\n",
        "#     # You can pass a custom URL to hit, such as:\n",
        "#     # \"https://www.strava.com/challenges/rapha-rising-circle-of-death\"\n",
        "#     url = sys.argv[3]\n",
        "#     response = scraper.get_page(url)\n",
        "#     print response.content\n",
        "\n",
        "\n",
        "# if __name__ == '__main__':\n",
        "#     main()\n",
        "scraper.py \"jsekara@gmail.com\" \"aCU3X7QSQ!tjVNp\" \"https://www.strava.com/clubs/BCRTSanford\""
      ],
      "metadata": {
        "id": "_hqyt17bNziw"
      },
      "execution_count": null,
      "outputs": []
    },
    {
      "cell_type": "code",
      "source": [
        "\n",
        "email = \"jsekara@gmail.com\"\n",
        "password = \"aCU3X7QSQ!tjVNp\"\n",
        "scraper = StravaScraper(email, password)\n",
        "scraper.login()\n",
        "dashboard_html = scraper.dashboard_content\n",
        "url = \"https://www.strava.com/clubs/BCRTSanford\"\n",
        "response = scraper.get_page(url)\n",
        "rapha_html = response.content"
      ],
      "metadata": {
        "colab": {
          "base_uri": "https://localhost:8080/",
          "height": 332
        },
        "id": "b8cXWMSOPsiF",
        "outputId": "bb26d957-5a00-41d6-8698-924faf7b4931"
      },
      "execution_count": null,
      "outputs": [
        {
          "output_type": "error",
          "ename": "TypeError",
          "evalue": "a bytes-like object is required, not 'str'",
          "traceback": [
            "\u001b[0;31m---------------------------------------------------------------------------\u001b[0m",
            "\u001b[0;31mTypeError\u001b[0m                                 Traceback (most recent call last)",
            "\u001b[0;32m<ipython-input-9-5d4ae4d3f3b1>\u001b[0m in \u001b[0;36m<cell line: 4>\u001b[0;34m()\u001b[0m\n\u001b[1;32m      2\u001b[0m \u001b[0mpassword\u001b[0m \u001b[0;34m=\u001b[0m \u001b[0;34m\"aCU3X7QSQ!tjVNp\"\u001b[0m\u001b[0;34m\u001b[0m\u001b[0;34m\u001b[0m\u001b[0m\n\u001b[1;32m      3\u001b[0m \u001b[0mscraper\u001b[0m \u001b[0;34m=\u001b[0m \u001b[0mStravaScraper\u001b[0m\u001b[0;34m(\u001b[0m\u001b[0memail\u001b[0m\u001b[0;34m,\u001b[0m \u001b[0mpassword\u001b[0m\u001b[0;34m)\u001b[0m\u001b[0;34m\u001b[0m\u001b[0;34m\u001b[0m\u001b[0m\n\u001b[0;32m----> 4\u001b[0;31m \u001b[0mscraper\u001b[0m\u001b[0;34m.\u001b[0m\u001b[0mlogin\u001b[0m\u001b[0;34m(\u001b[0m\u001b[0;34m)\u001b[0m\u001b[0;34m\u001b[0m\u001b[0;34m\u001b[0m\u001b[0m\n\u001b[0m\u001b[1;32m      5\u001b[0m \u001b[0mdashboard_html\u001b[0m \u001b[0;34m=\u001b[0m \u001b[0mscraper\u001b[0m\u001b[0;34m.\u001b[0m\u001b[0mdashboard_content\u001b[0m\u001b[0;34m\u001b[0m\u001b[0;34m\u001b[0m\u001b[0m\n\u001b[1;32m      6\u001b[0m \u001b[0murl\u001b[0m \u001b[0;34m=\u001b[0m \u001b[0;34m\"https://www.strava.com/clubs/BCRTSanford\"\u001b[0m\u001b[0;34m\u001b[0m\u001b[0;34m\u001b[0m\u001b[0m\n",
            "\u001b[0;32m<ipython-input-8-2bdf1ae041ce>\u001b[0m in \u001b[0;36mlogin\u001b[0;34m(self)\u001b[0m\n\u001b[1;32m     57\u001b[0m         \u001b[0;31m# Simulate that redirect here:\u001b[0m\u001b[0;34m\u001b[0m\u001b[0;34m\u001b[0m\u001b[0m\n\u001b[1;32m     58\u001b[0m         \u001b[0mresponse\u001b[0m \u001b[0;34m=\u001b[0m \u001b[0mself\u001b[0m\u001b[0;34m.\u001b[0m\u001b[0mget_page\u001b[0m\u001b[0;34m(\u001b[0m\u001b[0mStravaScraper\u001b[0m\u001b[0;34m.\u001b[0m\u001b[0mURL_DASHBOARD\u001b[0m\u001b[0;34m)\u001b[0m\u001b[0;34m\u001b[0m\u001b[0;34m\u001b[0m\u001b[0m\n\u001b[0;32m---> 59\u001b[0;31m         \u001b[0;32massert\u001b[0m\u001b[0;34m(\u001b[0m\u001b[0;34m\"<h2>Activity Feed</h2>\"\u001b[0m \u001b[0;32min\u001b[0m \u001b[0mresponse\u001b[0m\u001b[0;34m.\u001b[0m\u001b[0mcontent\u001b[0m\u001b[0;34m)\u001b[0m\u001b[0;34m\u001b[0m\u001b[0;34m\u001b[0m\u001b[0m\n\u001b[0m\u001b[1;32m     60\u001b[0m         \u001b[0mself\u001b[0m\u001b[0;34m.\u001b[0m\u001b[0mis_authed\u001b[0m \u001b[0;34m=\u001b[0m \u001b[0;32mTrue\u001b[0m\u001b[0;34m\u001b[0m\u001b[0;34m\u001b[0m\u001b[0m\n\u001b[1;32m     61\u001b[0m         \u001b[0;31m# Save this in case someone wants it later...\u001b[0m\u001b[0;34m\u001b[0m\u001b[0;34m\u001b[0m\u001b[0m\n",
            "\u001b[0;31mTypeError\u001b[0m: a bytes-like object is required, not 'str'"
          ]
        }
      ]
    }
  ]
}